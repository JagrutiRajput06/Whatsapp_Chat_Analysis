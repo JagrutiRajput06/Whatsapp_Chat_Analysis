{
  "cells": [
    {
      "cell_type": "code",
      "execution_count": null,
      "metadata": {
        "id": "UjSyLxEboOAg"
      },
      "outputs": [],
      "source": [
        "import re\n",
        "import regex\n",
        "import pandas as pd\n",
        "import numpy as np\n",
        "import emoji\n",
        "import plotly.express as px\n",
        "from collections import Counter\n",
        "import matplotlib.pyplot as plt\n",
        "from os import path\n",
        "from PIL import Image\n",
        "import datetime\n",
        "from wordcloud import WordCloud, STOPWORDS, ImageColorGenerator\n",
        "%matplotlib inline"
      ]
    },
    {
      "cell_type": "code",
      "execution_count": null,
      "metadata": {
        "id": "E0Wwchozp-Ww"
      },
      "outputs": [],
      "source": [
        "def date_time(s):\n",
        "  pattern = '^([0-9]+)(\\/)([0-9]+)(\\/)([0-9]+), ([0-9]+):([0-9]+)[ ]?(AM|PM|am|pm)? -'\n",
        "  result = re.match(pattern, s)\n",
        "  if result:\n",
        "     return True\n",
        "  return False"
      ]
    },
    {
      "cell_type": "code",
      "execution_count": null,
      "metadata": {
        "id": "fSVjUp_QuB7B"
      },
      "outputs": [],
      "source": [
        "def FindAuthor(s):\n",
        "  s=s.split(\":\")\n",
        "  if len(s)==2:\n",
        "    return True\n",
        "  else:\n",
        "    return False"
      ]
    },
    {
      "cell_type": "code",
      "execution_count": null,
      "metadata": {
        "id": "RezaGZD_r2IW"
      },
      "outputs": [],
      "source": [
        "def getDatapoint(line):\n",
        "    splitline = line.split(' - ')\n",
        "    dateTime = splitline[0]\n",
        "    date, time = dateTime.split(\", \")\n",
        "    message = \" \".join(splitline[1:])\n",
        "    if FindAuthor(message):\n",
        "        splitmessage = message.split(\": \")\n",
        "        author = splitmessage[0]\n",
        "        message = \" \".join(splitmessage[1:])\n",
        "    else:\n",
        "        author= None\n",
        "    return date, time, author, message"
      ]
    },
    {
      "cell_type": "code",
      "execution_count": null,
      "metadata": {
        "id": "ni1m1xZcsdkU"
      },
      "outputs": [],
      "source": []
    },
    {
      "cell_type": "code",
      "execution_count": null,
      "metadata": {
        "id": "v9lskKhKs0Z2"
      },
      "outputs": [],
      "source": [
        "def split_count(text):\n",
        "\n",
        "    emoji_list = []\n",
        "    data = regex.findall(r'\\X', text)\n",
        "    for word in data:\n",
        "      if any(char in emoji.EMOJI_DATA for char in word):\n",
        "        emoji_list.append(word)\n",
        "\n",
        "    return emoji_list"
      ]
    },
    {
      "cell_type": "code",
      "execution_count": null,
      "metadata": {
        "id": "LUzpzS0vdXDn"
      },
      "outputs": [],
      "source": [
        "parseddata = []\n",
        "conversation = 'WhatsApp Chat with Ghorpade F_A_M_I_L_Y.txt'\n",
        "with open(conversation, encoding=\"utf-8\") as fp:\n",
        "    fp.readline()\n",
        "    messageBuffer = []\n",
        "    date, time, author = None, None, None\n",
        "    while True:\n",
        "        line = fp.readline()\n",
        "        if not line:\n",
        "            break\n",
        "        line = line.strip()\n",
        "        if date_time(line):\n",
        "            if len(messageBuffer) > 0:\n",
        "                parseddata.append([date, time, author, ' '.join(messageBuffer)])\n",
        "            messageBuffer.clear()\n",
        "            date, time, author, message = getDatapoint(line)\n",
        "            messageBuffer.append(message)\n",
        "        else:\n",
        "            messageBuffer.append(line)"
      ]
    },
    {
      "cell_type": "code",
      "execution_count": null,
      "metadata": {
        "id": "t_7ggibSgNm0"
      },
      "outputs": [],
      "source": [
        "df = pd.DataFrame(parseddata, columns=[\"Date\", 'Time', 'Author', 'Message'])\n",
        "df['Date'] = pd.to_datetime(df['Date'])\n",
        "df = df.dropna()\n",
        "df[\"emoji\"]= df[\"Message\"].apply(split_count)\n",
        "URLPATTERN = r'(https?//\\S+)'\n",
        "df['urlcount'] = df.Message.apply(lambda x: re.findall(URLPATTERN, x)).str.len()\n",
        "print(df.tail(20))\n",
        "print(df.info())\n",
        "print(df.Author.unique())"
      ]
    },
    {
      "cell_type": "code",
      "execution_count": null,
      "metadata": {
        "id": "5-LJ9rVD0ivu"
      },
      "outputs": [],
      "source": [
        "df.dropna()\n",
        "df.info()"
      ]
    },
    {
      "cell_type": "code",
      "execution_count": null,
      "metadata": {
        "id": "Mv5TsNp3gjn5"
      },
      "outputs": [],
      "source": [
        "total_messages = df.shape[0]\n",
        "print(total_messages)"
      ]
    },
    {
      "cell_type": "code",
      "execution_count": null,
      "metadata": {
        "id": "WN5IzyxrgsLe"
      },
      "outputs": [],
      "source": [
        "media_messages = df[df[\"Message\"]=='<Media omitted>'].shape[0]\n",
        "print(media_messages)"
      ]
    },
    {
      "cell_type": "code",
      "source": [
        "emojis=df[\"emoji\"].shape[0]\n",
        "print(emojis)"
      ],
      "metadata": {
        "id": "pG66AWnao7Tt"
      },
      "execution_count": null,
      "outputs": []
    },
    {
      "cell_type": "code",
      "execution_count": null,
      "metadata": {
        "id": "UfurGv2ngsaY"
      },
      "outputs": [],
      "source": [
        "URLPATTERN = r'(https?://\\S+)'\n",
        "df['urlcount'] = df.Message.apply(lambda x: re.findall(URLPATTERN, x)).str.len()\n",
        "links = np.sum(df.urlcount)\n",
        "\n",
        "\n",
        "print(\"Chats in group\")\n",
        "print(\"Total Messages: \", total_messages)\n",
        "print(\"Number of Media Shared: \", media_messages)\n",
        "print(\"Number of Emojis Shared\", emojis)\n",
        "print(\"Number of Links Shared\", links)"
      ]
    },
    {
      "cell_type": "code",
      "execution_count": null,
      "metadata": {
        "id": "ztzE2Wgv2DGZ"
      },
      "outputs": [],
      "source": [
        "link_messages = df[df['urlcount']>0]\n",
        "deleted_messages=df[(df[\"Message\"]==\"You deleted this message\")| (df[\"Message\"]==\"This message was deleted.\")]\n",
        "media_messages_df = df[(df['Message'] == '<Media omitted>')|(df['Message']=='image omitted')|(df['Message']== 'video omitted.')]\n",
        "messages_df = df.drop(media_messages_df.index)\n",
        "messages_df = messages_df.drop(deleted_messages.index)\n",
        "messages_df = messages_df.drop(link_messages.index)\n"
      ]
    },
    {
      "cell_type": "code",
      "execution_count": null,
      "metadata": {
        "id": "lOIXohjH4Q5c"
      },
      "outputs": [],
      "source": [
        "messages_df.info()"
      ]
    },
    {
      "cell_type": "code",
      "execution_count": null,
      "metadata": {
        "id": "e5pCawj14i3u"
      },
      "outputs": [],
      "source": [
        "messages_df['Letter_Count'] = messages_df['Message'].apply(lambda s : len(s))\n",
        "messages_df['Word_Count'] = messages_df['Message'].apply(lambda s : len(s.split(' ')))\n",
        "messages_df[\"MessageCount\"]=1\n",
        "\n"
      ]
    },
    {
      "cell_type": "code",
      "execution_count": null,
      "metadata": {
        "id": "8Ni1CbTK5U8N"
      },
      "outputs": [],
      "source": [
        "messages_df.head(10)"
      ]
    },
    {
      "cell_type": "code",
      "execution_count": null,
      "metadata": {
        "id": "Eo8Q1WPA5p_X"
      },
      "outputs": [],
      "source": [
        "messages_df[\"emojicount\"]=df['emoji'].str.len()"
      ]
    },
    {
      "cell_type": "code",
      "execution_count": null,
      "metadata": {
        "id": "GFl7JV7f6FXJ"
      },
      "outputs": [],
      "source": [
        "members= messages_df.Author.unique()\n",
        "for i in range(len(members)):\n",
        "  req_df= messages_df[messages_df[\"Author\"] == members[i]]\n",
        "  print(f'Stats of {members[i]} -')\n",
        "  print('Messages Sent', req_df.shape[0])\n",
        "  words_per_message = (np.sum(req_df['Word_Count']))/req_df.shape[0]\n",
        "  print('Average Words per message', words_per_message)\n",
        "  media = media_messages_df[media_messages_df['Author'] == members[i]].shape[0]\n",
        "  print('Media Messages Sent', media) \n",
        "  links=sum(link_messages[link_messages['Author']==members[i]][\"urlcount\"])\n",
        "  print('Links Sent',links)\n",
        "  print()\n",
        "  "
      ]
    },
    {
      "cell_type": "code",
      "execution_count": null,
      "metadata": {
        "id": "krpu9vJe9b7E"
      },
      "outputs": [],
      "source": [
        "total_emojis_list = list([a for b in messages_df.emoji for a in b])\n",
        "emoji_dict = dict(Counter(total_emojis_list))\n",
        "emoji_dict = sorted(emoji_dict.items(), key=lambda x:x[1], reverse=True)\n",
        "print(emoji_dict)"
      ]
    },
    {
      "cell_type": "code",
      "execution_count": null,
      "metadata": {
        "id": "wKQqjtsf-s38"
      },
      "outputs": [],
      "source": [
        "messages_df['Time'].value_counts().head(10).plot.barh()\n",
        "plt.xlabel('Number of messages')\n",
        "plt.ylabel('Time')"
      ]
    },
    {
      "cell_type": "code",
      "execution_count": null,
      "metadata": {
        "id": "25Q1WDDRiNRa"
      },
      "outputs": [],
      "source": [
        "media_messages_df = df[df['Message'] == '<Media omitted>']\n",
        "messages_df = df.drop(media_messages_df.index)\n",
        "messages_df['Letter_Count'] = messages_df['Message'].apply(lambda s : len(s))\n",
        "messages_df['Word_Count'] = messages_df['Message'].apply(lambda s : len(s.split(' ')))\n",
        "messages_df[\"MessageCount\"]=1\n",
        "\n",
        "l = [\"pappu mama\", \"Dilip Mama CSN\",\"Bhagyashri Bai\",\"Kajal Tai\",\"+91 86691 34986\"]\n",
        "for i in range(len(l)):\n",
        "  # Filtering out messages of particular user\n",
        "  req_df= messages_df[messages_df[\"Author\"] == l[i]]\n",
        "  # req_df will contain messages of only one particular user\n",
        "  print(f'Stats of {l[i]} -')\n",
        "  # shape will print number of rows which indirectly means the number of messages\n",
        "  print('Messages Sent', req_df.shape[0])\n",
        "  #Word_Count contains of total words in one message. Sum of all words/ Total Messages will yield words per message\n",
        "  words_per_message = (np.sum(req_df['Word_Count']))/req_df.shape[0]\n",
        "  print('Average Words per message', words_per_message)\n",
        "  #media conists of media messages\n",
        "  media = media_messages_df[media_messages_df['Author'] == l[i]].shape[0]\n",
        "  print('Media Messages Sent', media)\n",
        "  #emojis conists of total emojis\n",
        "  emojis = sum(req_df['emoji'].str.len())\n",
        "  print('Emojis Sent', emojis)\n",
        "  #links consist of total links\n",
        "  links = sum(req_df[\"urlcount\"])   \n",
        "  print('Links Sent', links)\n",
        "  print()"
      ]
    },
    {
      "cell_type": "code",
      "source": [
        "total_emojis_list = list(set([a for b in messages_df.emoji for a in b]))\n",
        "total_emojis = len(total_emojis_list)\n",
        "\n",
        "total_emojis_list = list([a for b in messages_df.emoji for a in b])\n",
        "emoji_dict = dict(Counter(total_emojis_list))\n",
        "emoji_dict = sorted(emoji_dict.items(), key=lambda x: x[1], reverse=True)\n",
        "for i in emoji_dict:\n",
        "  print(i)\n",
        "  \n",
        "emoji_df = pd.DataFrame(emoji_dict, columns=['emoji', 'count'])\n",
        "import plotly.express as px\n",
        "fig = px.pie(emoji_df, values='count', names='emoji')\n",
        "fig.update_traces(textposition='inside', textinfo='percent+label')\n",
        "fig.show()\n"
      ],
      "metadata": {
        "id": "-Li2I7ZGQqFl"
      },
      "execution_count": null,
      "outputs": []
    },
    {
      "cell_type": "code",
      "execution_count": null,
      "metadata": {
        "id": "vasC8MRviNW8"
      },
      "outputs": [],
      "source": [
        "text = \" \".join(review for review in messages_df.Message)\n",
        "print (\"There are {} words in all the messages.\".format(len(text)))\n",
        "stopwords = set(STOPWORDS)\n",
        "# Generate a word cloud image\n",
        "wordcloud = WordCloud(stopwords=stopwords, background_color=\"white\").generate(text)\n",
        "# Display the generated image:\n",
        "# the matplotlib way:\n",
        "plt.figure( figsize=(10,5))\n",
        "plt.imshow(wordcloud, interpolation='bilinear')\n",
        "plt.axis(\"off\")\n",
        "plt.show()"
      ]
    },
    {
      "cell_type": "code",
      "execution_count": null,
      "metadata": {
        "id": "n2IgyVuaiNaX"
      },
      "outputs": [],
      "source": [
        "l = [\"pappu mama\", \"Dilip Mama CSN\"]\n",
        "for i in range(len(l)):\n",
        "  dummy_df = messages_df[messages_df['Author'] == l[i]]\n",
        "  text = \" \".join(review for review in dummy_df.Message)\n",
        "  stopwords = set(STOPWORDS)\n",
        "  #Generate a word cloud image\n",
        "  print('Author name',l[i])\n",
        "  wordcloud = WordCloud(stopwords=stopwords, background_color=\"white\").generate(text)\n",
        "  #Display the generated image   \n",
        "  plt.figure( figsize=(10,5))\n",
        "  plt.imshow(wordcloud, interpolation='bilinear')\n",
        "  plt.axis(\"off\")\n",
        "  plt.show()"
      ]
    },
    {
      "cell_type": "code",
      "source": [
        "l = [\"pappu mama\", \"Dilip Mama CSN\",\"Bhagyashri Bai\",\"Kajal Tai\",\"+91 86691 34986\",\"Apeksha Mami Nsk\",\"Kaka\",\"Papa\",\"Komal\"]\n",
        "for i in range(len(l)):\n",
        "  dummy_df = messages_df[messages_df['Author'] == l[i]]\n",
        "  text = \" \".join(review for review in dummy_df.Message)\n",
        "  stopwords = set(STOPWORDS)\n",
        "  #Generate a word cloud image\n",
        "  print('Author name',l[i])\n",
        "  wordcloud = WordCloud(stopwords=stopwords, background_color=\"white\").generate(text)\n",
        "  #Display the generated image   \n",
        "  plt.figure( figsize=(10,5))\n",
        "  plt.imshow(wordcloud, interpolation='bilinear')\n",
        "  plt.axis(\"off\")\n",
        "  plt.show()"
      ],
      "metadata": {
        "id": "58sydWzRSTfa"
      },
      "execution_count": null,
      "outputs": []
    }
  ],
  "metadata": {
    "colab": {
      "provenance": []
    },
    "kernelspec": {
      "display_name": "Python 3",
      "name": "python3"
    },
    "language_info": {
      "name": "python"
    }
  },
  "nbformat": 4,
  "nbformat_minor": 0
}